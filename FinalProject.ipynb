{
 "cells": [
  {
   "cell_type": "markdown",
   "metadata": {},
   "source": [
    "# Introduction"
   ]
  },
  {
   "cell_type": "markdown",
   "metadata": {},
   "source": [
    "For our judgement of the best place to live, we decided to focus on health. Our metrics involve depression and anxiety to cover mental health, as well as diabetes to cover physical health.\n",
    "Since health and happiness are largely intertwined and also highly dependent on the environment one is in, we thought these would be perfect ways to measure the quality of a community."
   ]
  },
  {
   "cell_type": "markdown",
   "metadata": {},
   "source": [
    "# Our Metrics and the Calculations"
   ]
  },
  {
   "cell_type": "markdown",
   "metadata": {},
   "source": [
    "### Depression\n",
    "\n",
    "First, we chose the percentage of people taking depression medication because environement is a major factor in developing depression. A place that has a low percentage of depressed people is likely one that is a good place to live, and vice versa.\n"
   ]
  },
  {
   "cell_type": "code",
   "execution_count": 3,
   "metadata": {},
   "outputs": [
    {
     "data": {
      "text/html": [
       "<div>\n",
       "<style scoped>\n",
       "    .dataframe tbody tr th:only-of-type {\n",
       "        vertical-align: middle;\n",
       "    }\n",
       "\n",
       "    .dataframe tbody tr th {\n",
       "        vertical-align: top;\n",
       "    }\n",
       "\n",
       "    .dataframe thead th {\n",
       "        text-align: right;\n",
       "    }\n",
       "</style>\n",
       "<table border=\"1\" class=\"dataframe\">\n",
       "  <thead>\n",
       "    <tr style=\"text-align: right;\">\n",
       "      <th></th>\n",
       "      <th>Census Tract</th>\n",
       "      <th>% On Depression Medication</th>\n",
       "    </tr>\n",
       "  </thead>\n",
       "  <tbody>\n",
       "    <tr>\n",
       "      <th>0</th>\n",
       "      <td>2609</td>\n",
       "      <td>0.083512</td>\n",
       "    </tr>\n",
       "    <tr>\n",
       "      <th>1</th>\n",
       "      <td>1016</td>\n",
       "      <td>0.095718</td>\n",
       "    </tr>\n",
       "    <tr>\n",
       "      <th>2</th>\n",
       "      <td>5641</td>\n",
       "      <td>0.096712</td>\n",
       "    </tr>\n",
       "    <tr>\n",
       "      <th>3</th>\n",
       "      <td>4120</td>\n",
       "      <td>0.098026</td>\n",
       "    </tr>\n",
       "    <tr>\n",
       "      <th>4</th>\n",
       "      <td>2507</td>\n",
       "      <td>0.099010</td>\n",
       "    </tr>\n",
       "    <tr>\n",
       "      <th>...</th>\n",
       "      <td>...</td>\n",
       "      <td>...</td>\n",
       "    </tr>\n",
       "    <tr>\n",
       "      <th>344</th>\n",
       "      <td>404</td>\n",
       "      <td>0.209615</td>\n",
       "    </tr>\n",
       "    <tr>\n",
       "      <th>345</th>\n",
       "      <td>4270</td>\n",
       "      <td>0.215768</td>\n",
       "    </tr>\n",
       "    <tr>\n",
       "      <th>346</th>\n",
       "      <td>5521</td>\n",
       "      <td>0.217270</td>\n",
       "    </tr>\n",
       "    <tr>\n",
       "      <th>347</th>\n",
       "      <td>5620</td>\n",
       "      <td>0.217784</td>\n",
       "    </tr>\n",
       "    <tr>\n",
       "      <th>348</th>\n",
       "      <td>5519</td>\n",
       "      <td>0.218992</td>\n",
       "    </tr>\n",
       "  </tbody>\n",
       "</table>\n",
       "<p>349 rows × 2 columns</p>\n",
       "</div>"
      ],
      "text/plain": [
       "     Census Tract  % On Depression Medication\n",
       "0            2609                    0.083512\n",
       "1            1016                    0.095718\n",
       "2            5641                    0.096712\n",
       "3            4120                    0.098026\n",
       "4            2507                    0.099010\n",
       "..            ...                         ...\n",
       "344           404                    0.209615\n",
       "345          4270                    0.215768\n",
       "346          5521                    0.217270\n",
       "347          5620                    0.217784\n",
       "348          5519                    0.218992\n",
       "\n",
       "[349 rows x 2 columns]"
      ]
     },
     "execution_count": 3,
     "metadata": {},
     "output_type": "execute_result"
    }
   ],
   "source": [
    "import pandas as pd\n",
    "\n",
    "depression = pd.read_csv('depression_all_2016.csv')\n",
    "census_tracts = {}\n",
    "for index, row in depression.iterrows():\n",
    "    if(row['CT']//100 < 9000):\n",
    "        census_tracts[row['CT']//100] = row['EPAN']/row['EPAD']\n",
    "\n",
    "depression_df = pd.DataFrame(list(census_tracts.items()), columns=['Census Tract', '% On Depression Medication'])\n",
    "depression_df = depression_df.sort_values(by='% On Depression Medication')\n",
    "depression_df.reset_index(inplace = True)\n",
    "depression_df = depression_df.drop(columns='index')\n",
    "\n",
    "depression_df"
   ]
  },
  {
   "cell_type": "code",
   "execution_count": 4,
   "metadata": {},
   "outputs": [
    {
     "data": {
      "text/plain": [
       "<matplotlib.axes._subplots.AxesSubplot at 0x7f1bc75fc630>"
      ]
     },
     "execution_count": 4,
     "metadata": {},
     "output_type": "execute_result"
    },
    {
     "data": {
      "image/png": "[encoded data removed]",
      "text/plain": [
       "<Figure size 432x288 with 1 Axes>"
      ]
     },
     "metadata": {
      "needs_background": "light"
     },
     "output_type": "display_data"
    }
   ],
   "source": [
    "depression_df.iloc[0::20].plot(kind='bar', x='Census Tract', y='% On Depression Medication')"
   ]
  },
  {
   "cell_type": "markdown",
   "metadata": {},
   "source": [
    "### Anxiety\n",
    "\n",
    "We chose anxiety for similar reasons to depression. Environment is a major contributing factor to anxiety, so living in a place with low rates of it is preferable. We chose to do both anxiety and depression, as they are caused by different factors and are not necessarily correlated.\n"
   ]
  },
  {
   "cell_type": "code",
   "execution_count": 5,
   "metadata": {},
   "outputs": [
    {
     "data": {
      "text/html": [
       "<div>\n",
       "<style scoped>\n",
       "    .dataframe tbody tr th:only-of-type {\n",
       "        vertical-align: middle;\n",
       "    }\n",
       "\n",
       "    .dataframe tbody tr th {\n",
       "        vertical-align: top;\n",
       "    }\n",
       "\n",
       "    .dataframe thead th {\n",
       "        text-align: right;\n",
       "    }\n",
       "</style>\n",
       "<table border=\"1\" class=\"dataframe\">\n",
       "  <thead>\n",
       "    <tr style=\"text-align: right;\">\n",
       "      <th></th>\n",
       "      <th>Census Tract</th>\n",
       "      <th>% On Anxiety Medication</th>\n",
       "    </tr>\n",
       "  </thead>\n",
       "  <tbody>\n",
       "    <tr>\n",
       "      <th>0</th>\n",
       "      <td>2609</td>\n",
       "      <td>0.062099</td>\n",
       "    </tr>\n",
       "    <tr>\n",
       "      <th>1</th>\n",
       "      <td>1303</td>\n",
       "      <td>0.095238</td>\n",
       "    </tr>\n",
       "    <tr>\n",
       "      <th>2</th>\n",
       "      <td>5619</td>\n",
       "      <td>0.099057</td>\n",
       "    </tr>\n",
       "    <tr>\n",
       "      <th>3</th>\n",
       "      <td>511</td>\n",
       "      <td>0.100000</td>\n",
       "    </tr>\n",
       "    <tr>\n",
       "      <th>4</th>\n",
       "      <td>1016</td>\n",
       "      <td>0.100756</td>\n",
       "    </tr>\n",
       "    <tr>\n",
       "      <th>...</th>\n",
       "      <td>...</td>\n",
       "      <td>...</td>\n",
       "    </tr>\n",
       "    <tr>\n",
       "      <th>343</th>\n",
       "      <td>4190</td>\n",
       "      <td>0.210633</td>\n",
       "    </tr>\n",
       "    <tr>\n",
       "      <th>344</th>\n",
       "      <td>4994</td>\n",
       "      <td>0.211234</td>\n",
       "    </tr>\n",
       "    <tr>\n",
       "      <th>345</th>\n",
       "      <td>5521</td>\n",
       "      <td>0.211699</td>\n",
       "    </tr>\n",
       "    <tr>\n",
       "      <th>346</th>\n",
       "      <td>4200</td>\n",
       "      <td>0.215278</td>\n",
       "    </tr>\n",
       "    <tr>\n",
       "      <th>347</th>\n",
       "      <td>4270</td>\n",
       "      <td>0.216459</td>\n",
       "    </tr>\n",
       "  </tbody>\n",
       "</table>\n",
       "<p>348 rows × 2 columns</p>\n",
       "</div>"
      ],
      "text/plain": [
       "     Census Tract  % On Anxiety Medication\n",
       "0            2609                 0.062099\n",
       "1            1303                 0.095238\n",
       "2            5619                 0.099057\n",
       "3             511                 0.100000\n",
       "4            1016                 0.100756\n",
       "..            ...                      ...\n",
       "343          4190                 0.210633\n",
       "344          4994                 0.211234\n",
       "345          5521                 0.211699\n",
       "346          4200                 0.215278\n",
       "347          4270                 0.216459\n",
       "\n",
       "[348 rows x 2 columns]"
      ]
     },
     "execution_count": 5,
     "metadata": {},
     "output_type": "execute_result"
    }
   ],
   "source": [
    "anxiety = pd.read_csv('anxiety_all_2016.csv')\n",
    "census_tracts = {}\n",
    "for index, row in anxiety.iterrows():\n",
    "    if(row['CT']//100 < 9000):\n",
    "        census_tracts[row['CT']//100] = row['XPAN']/row['XPAD']\n",
    "\n",
    "anxiety_df = pd.DataFrame(list(census_tracts.items()), columns=['Census Tract', '% On Anxiety Medication'])\n",
    "anxiety_df = anxiety_df.sort_values(by='% On Anxiety Medication')\n",
    "anxiety_df.reset_index(inplace = True)\n",
    "anxiety_df = anxiety_df.drop(columns='index')\n",
    "\n",
    "anxiety_df"
   ]
  },
  {
   "cell_type": "code",
   "execution_count": 6,
   "metadata": {},
   "outputs": [
    {
     "data": {
      "text/plain": [
       "<matplotlib.axes._subplots.AxesSubplot at 0x7f1bc4bef5c0>"
      ]
     },
     "execution_count": 6,
     "metadata": {},
     "output_type": "execute_result"
    },
    {
     "data": {
      "image/png": "[encoded data removed]",
      "text/plain": [
       "<Figure size 432x288 with 1 Axes>"
      ]
     },
     "metadata": {
      "needs_background": "light"
     },
     "output_type": "display_data"
    }
   ],
   "source": [
    "anxiety_df.iloc[0::20].plot(kind='bar', x='Census Tract', y='% On Anxiety Medication')"
   ]
  },
  {
   "cell_type": "markdown",
   "metadata": {},
   "source": [
    "### Diabetes + Hyperlipidemia\n",
    "\n",
    "To cover the physical side of health, we chose diabetes. Diabetes is a huge issue for many Americans today, and is closely related to issues with environment. Areas in food deserts make developing diabetes much more likely, and so finding a place where adequate nutrition is available is a must.\n"
   ]
  },
  {
   "cell_type": "code",
   "execution_count": 10,
   "metadata": {},
   "outputs": [
    {
     "data": {
      "text/html": [
       "<div>\n",
       "<style scoped>\n",
       "    .dataframe tbody tr th:only-of-type {\n",
       "        vertical-align: middle;\n",
       "    }\n",
       "\n",
       "    .dataframe tbody tr th {\n",
       "        vertical-align: top;\n",
       "    }\n",
       "\n",
       "    .dataframe thead th {\n",
       "        text-align: right;\n",
       "    }\n",
       "</style>\n",
       "<table border=\"1\" class=\"dataframe\">\n",
       "  <thead>\n",
       "    <tr style=\"text-align: right;\">\n",
       "      <th></th>\n",
       "      <th>Census Tract</th>\n",
       "      <th>% w/ Diabetes or Hyperlipidemia</th>\n",
       "    </tr>\n",
       "  </thead>\n",
       "  <tbody>\n",
       "    <tr>\n",
       "      <th>0</th>\n",
       "      <td>1402</td>\n",
       "      <td>0.017585</td>\n",
       "    </tr>\n",
       "    <tr>\n",
       "      <th>1</th>\n",
       "      <td>705</td>\n",
       "      <td>0.018478</td>\n",
       "    </tr>\n",
       "    <tr>\n",
       "      <th>2</th>\n",
       "      <td>708</td>\n",
       "      <td>0.019316</td>\n",
       "    </tr>\n",
       "    <tr>\n",
       "      <th>3</th>\n",
       "      <td>201</td>\n",
       "      <td>0.022605</td>\n",
       "    </tr>\n",
       "    <tr>\n",
       "      <th>4</th>\n",
       "      <td>807</td>\n",
       "      <td>0.023173</td>\n",
       "    </tr>\n",
       "    <tr>\n",
       "      <th>...</th>\n",
       "      <td>...</td>\n",
       "      <td>...</td>\n",
       "    </tr>\n",
       "    <tr>\n",
       "      <th>343</th>\n",
       "      <td>5010</td>\n",
       "      <td>0.113636</td>\n",
       "    </tr>\n",
       "    <tr>\n",
       "      <th>344</th>\n",
       "      <td>4870</td>\n",
       "      <td>0.114411</td>\n",
       "    </tr>\n",
       "    <tr>\n",
       "      <th>345</th>\n",
       "      <td>5120</td>\n",
       "      <td>0.118138</td>\n",
       "    </tr>\n",
       "    <tr>\n",
       "      <th>346</th>\n",
       "      <td>4281</td>\n",
       "      <td>0.125828</td>\n",
       "    </tr>\n",
       "    <tr>\n",
       "      <th>347</th>\n",
       "      <td>4838</td>\n",
       "      <td>0.127133</td>\n",
       "    </tr>\n",
       "  </tbody>\n",
       "</table>\n",
       "<p>348 rows × 2 columns</p>\n",
       "</div>"
      ],
      "text/plain": [
       "     Census Tract  % w/ Diabetes or Hyperlipidemia\n",
       "0            1402                         0.017585\n",
       "1             705                         0.018478\n",
       "2             708                         0.019316\n",
       "3             201                         0.022605\n",
       "4             807                         0.023173\n",
       "..            ...                              ...\n",
       "343          5010                         0.113636\n",
       "344          4870                         0.114411\n",
       "345          5120                         0.118138\n",
       "346          4281                         0.125828\n",
       "347          4838                         0.127133\n",
       "\n",
       "[348 rows x 2 columns]"
      ]
     },
     "execution_count": 10,
     "metadata": {},
     "output_type": "execute_result"
    }
   ],
   "source": [
    "disease = pd.read_csv('diabetes_hyperlipidemia_all_2016.csv')\n",
    "census_tracts = {}\n",
    "for index, row in disease.iterrows():\n",
    "    if(row['CT']//100 < 9000):\n",
    "        census_tracts[row['CT']//100] = row['BLPAN']/row['BLPAD']\n",
    "\n",
    "disease_df = pd.DataFrame(list(census_tracts.items()), columns=['Census Tract', '% w/ Diabetes or Hyperlipidemia'])\n",
    "disease_df = disease_df.sort_values(by='% w/ Diabetes or Hyperlipidemia')\n",
    "disease_df.reset_index(inplace = True)\n",
    "disease_df = disease_df.drop(columns='index')\n",
    "disease_df"
   ]
  },
  {
   "cell_type": "code",
   "execution_count": 28,
   "metadata": {},
   "outputs": [
    {
     "data": {
      "text/plain": [
       "<matplotlib.axes._subplots.AxesSubplot at 0x7fd41a099fd0>"
      ]
     },
     "execution_count": 28,
     "metadata": {},
     "output_type": "execute_result"
    },
    {
     "data": {
      "image/png": "[encoded data removed]",
      "text/plain": [
       "<Figure size 432x288 with 1 Axes>"
      ]
     },
     "metadata": {
      "needs_background": "light"
     },
     "output_type": "display_data"
    }
   ],
   "source": [
    "disease_df.iloc[0::20].plot(kind='bar', x='Census Tract', y='% w/ Diabetes or Hyperlipidemia')"
   ]
  },
  {
   "cell_type": "markdown",
   "metadata": {},
   "source": [
    "### Combining the Three Metrics"
   ]
  },
  {
   "cell_type": "code",
   "execution_count": 31,
   "metadata": {},
   "outputs": [
    {
     "data": {
      "text/html": [
       "<div>\n",
       "<style scoped>\n",
       "    .dataframe tbody tr th:only-of-type {\n",
       "        vertical-align: middle;\n",
       "    }\n",
       "\n",
       "    .dataframe tbody tr th {\n",
       "        vertical-align: top;\n",
       "    }\n",
       "\n",
       "    .dataframe thead th {\n",
       "        text-align: right;\n",
       "    }\n",
       "</style>\n",
       "<table border=\"1\" class=\"dataframe\">\n",
       "  <thead>\n",
       "    <tr style=\"text-align: right;\">\n",
       "      <th></th>\n",
       "      <th>Census Tract</th>\n",
       "      <th>Average Ranking</th>\n",
       "    </tr>\n",
       "  </thead>\n",
       "  <tbody>\n",
       "    <tr>\n",
       "      <th>0</th>\n",
       "      <td>2609</td>\n",
       "      <td>9.666667</td>\n",
       "    </tr>\n",
       "    <tr>\n",
       "      <th>1</th>\n",
       "      <td>807</td>\n",
       "      <td>22.333333</td>\n",
       "    </tr>\n",
       "    <tr>\n",
       "      <th>2</th>\n",
       "      <td>4120</td>\n",
       "      <td>23.333333</td>\n",
       "    </tr>\n",
       "    <tr>\n",
       "      <th>3</th>\n",
       "      <td>4090</td>\n",
       "      <td>27.000000</td>\n",
       "    </tr>\n",
       "    <tr>\n",
       "      <th>4</th>\n",
       "      <td>203</td>\n",
       "      <td>27.666667</td>\n",
       "    </tr>\n",
       "    <tr>\n",
       "      <th>...</th>\n",
       "      <td>...</td>\n",
       "      <td>...</td>\n",
       "    </tr>\n",
       "    <tr>\n",
       "      <th>344</th>\n",
       "      <td>5120</td>\n",
       "      <td>333.333333</td>\n",
       "    </tr>\n",
       "    <tr>\n",
       "      <th>345</th>\n",
       "      <td>5519</td>\n",
       "      <td>338.000000</td>\n",
       "    </tr>\n",
       "    <tr>\n",
       "      <th>346</th>\n",
       "      <td>4870</td>\n",
       "      <td>340.000000</td>\n",
       "    </tr>\n",
       "    <tr>\n",
       "      <th>347</th>\n",
       "      <td>4994</td>\n",
       "      <td>343.000000</td>\n",
       "    </tr>\n",
       "    <tr>\n",
       "      <th>348</th>\n",
       "      <td>404</td>\n",
       "      <td>344.000000</td>\n",
       "    </tr>\n",
       "  </tbody>\n",
       "</table>\n",
       "<p>349 rows × 2 columns</p>\n",
       "</div>"
      ],
      "text/plain": [
       "     Census Tract  Average Ranking\n",
       "0            2609         9.666667\n",
       "1             807        22.333333\n",
       "2            4120        23.333333\n",
       "3            4090        27.000000\n",
       "4             203        27.666667\n",
       "..            ...              ...\n",
       "344          5120       333.333333\n",
       "345          5519       338.000000\n",
       "346          4870       340.000000\n",
       "347          4994       343.000000\n",
       "348           404       344.000000\n",
       "\n",
       "[349 rows x 2 columns]"
      ]
     },
     "execution_count": 31,
     "metadata": {},
     "output_type": "execute_result"
    }
   ],
   "source": [
    "ct_avgs = {};\n",
    "for index, row in depression_df.iterrows():\n",
    "    if row['Census Tract']//100 < 9000:\n",
    "        ct = int(row['Census Tract'])\n",
    "        if ct not in ct_avgs:\n",
    "            ct_avgs[ct] = []\n",
    "        ct_avgs[ct].append(index)\n",
    "    \n",
    "for index, row in anxiety_df.iterrows():\n",
    "    if row['Census Tract']//100 < 9000:\n",
    "        ct = int(row['Census Tract'])\n",
    "        if ct not in ct_avgs:\n",
    "            ct_avgs[ct] = []\n",
    "        ct_avgs[ct].append(index)\n",
    "\n",
    "for index, row in disease_df.iterrows():\n",
    "    if row['Census Tract']//100 < 9000:\n",
    "        ct = int(row['Census Tract'])\n",
    "        if ct not in ct_avgs:\n",
    "            ct_avgs[ct] = []\n",
    "        ct_avgs[ct].append(index)       \n",
    "\n",
    "for ct in ct_avgs.keys():\n",
    "    ct_avgs[ct] = sum(ct_avgs[ct])/len(ct_avgs[ct])\n",
    "\n",
    "avgs_df = pd.DataFrame(list(ct_avgs.items()), columns=['Census Tract', 'Average Ranking'])\n",
    "avgs_df = avgs_df.sort_values(by='Average Ranking')\n",
    "avgs_df.reset_index(inplace = True)\n",
    "avgs_df = avgs_df.drop(columns='index')\n",
    "avgs_df\n"
   ]
  },
  {
   "cell_type": "markdown",
   "metadata": {},
   "source": [
    "# Conclusion"
   ]
  },
  {
   "cell_type": "markdown",
   "metadata": {},
   "source": [
    "Based on the data we collected, we decided that the best place to live is **Northview Heights** (census tract number 2609). People in Northview Heights take the least amount of medication for depression and anxiety, and they also are the population with the least amount of cases of diabetes. \n",
    "\n",
    "We thought that the best neighborhood would be Northview Heights, but the results ended up showing that the neighborhood is actually not very safe and has a high poverty level. Since residents of Northview Heights do not have a lot of money, they may not be able to buy medications or afford health insurance. This is a possible cause for why there are lower percentages for medications taken for depression, anxiety, and diabetes. However, there are some good public schools that serve Northview Heights. This shows that the metrics we chose aren't good indicators for whether a community is good to live in. If we had looked at crime or drug abuse, Northview Heights would've gotten a much lower ranking. \n",
    "\n",
    "Obviously, we think Oakland is the best place in Pittsburgh (Hail to Pitt!). Oakland (Census Tract 406) was ranked 55th on our list."
   ]
  },
  {
   "cell_type": "code",
   "execution_count": null,
   "metadata": {},
   "outputs": [],
   "source": []
  }
 ],
 "metadata": {
  "kernelspec": {
   "display_name": "Python 3",
   "language": "python",
   "name": "python3"
  },
  "language_info": {
   "codemirror_mode": {
    "name": "ipython",
    "version": 3
   },
   "file_extension": ".py",
   "mimetype": "text/x-python",
   "name": "python",
   "nbconvert_exporter": "python",
   "pygments_lexer": "ipython3",
   "version": "3.6.7"
  }
 },
 "nbformat": 4,
 "nbformat_minor": 4
}
